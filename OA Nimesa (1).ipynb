{
 "cells": [
  {
   "cell_type": "code",
   "execution_count": 2,
   "id": "f1f7ace9",
   "metadata": {
    "scrolled": true
   },
   "outputs": [
    {
     "name": "stdout",
     "output_type": "stream",
     "text": [
      "\n",
      "1. Get weather\n",
      "2. Get Wind Speed\n",
      "3. Get Pressure\n",
      "0. Exit\n",
      "Enter your option: 1\n",
      "Enter the date and time in the format 'yyyy-mm-dd hh:mm:ss': 2019-03-27 18:00:00\n",
      "The temperature on 2019-03-27 18:00:00 is 278.76 Kelvin.\n",
      "\n",
      "1. Get weather\n",
      "2. Get Wind Speed\n",
      "3. Get Pressure\n",
      "0. Exit\n",
      "Enter your option: 2\n",
      "Enter the date and time in the format 'yyyy-mm-dd hh:mm:ss': 2019-03-27 18:00:00\n",
      "The wind speed on 2019-03-27 18:00:00 is 1.6 m/s.\n",
      "\n",
      "1. Get weather\n",
      "2. Get Wind Speed\n",
      "3. Get Pressure\n",
      "0. Exit\n",
      "Enter your option: 3\n",
      "Enter the date and time in the format 'yyyy-mm-dd hh:mm:ss': 2019-03-27 18:00:00\n",
      "The pressure on 2019-03-27 18:00:00 is 1031.934 hPa.\n",
      "\n",
      "1. Get weather\n",
      "2. Get Wind Speed\n",
      "3. Get Pressure\n",
      "0. Exit\n",
      "Enter your option: 0\n"
     ]
    }
   ],
   "source": [
    "import requests\n",
    "from datetime import datetime\n",
    "\n",
    "def get_data(date):\n",
    "    response = requests.get(\"https://samples.openweathermap.org/data/2.5/forecast/hourly?q=London,us&appid=b6907d289e10d714a6e88b30761fae22\")\n",
    "    data = response.json()\n",
    "    for item in data['list']:\n",
    "        if date in item['dt_txt']:\n",
    "            return item\n",
    "    return None\n",
    "\n",
    "def get_weather(date):\n",
    "    data = get_data(date)\n",
    "    if data:\n",
    "        print(f\"The temperature on {date} is {data['main']['temp']} Kelvin.\")\n",
    "    else:\n",
    "        print(\"No data available for this date.\")\n",
    "\n",
    "def get_wind_speed(date):\n",
    "    data = get_data(date)\n",
    "    if data:\n",
    "        print(f\"The wind speed on {date} is {data['wind']['speed']} m/s.\")\n",
    "    else:\n",
    "        print(\"No data available for this date.\")\n",
    "\n",
    "def get_pressure(date):\n",
    "    data = get_data(date)\n",
    "    if data:\n",
    "        print(f\"The pressure on {date} is {data['main']['pressure']} hPa.\")\n",
    "    else:\n",
    "        print(\"No data available for this date.\")\n",
    "\n",
    "def main():\n",
    "    while True:\n",
    "        print(\"\\n1. Get weather\\n2. Get Wind Speed\\n3. Get Pressure\\n0. Exit\")\n",
    "        option = int(input(\"Enter your option: \"))\n",
    "        if option == 0:\n",
    "            break\n",
    "        date = input(\"Enter the date and time in the format 'yyyy-mm-dd hh:mm:ss': \")\n",
    "        if option == 1:\n",
    "            get_weather(date)\n",
    "        elif option == 2:\n",
    "            get_wind_speed(date)\n",
    "        elif option == 3:\n",
    "            get_pressure(date)\n",
    "\n",
    "if __name__ == \"__main__\":\n",
    "    main()\n"
   ]
  }
 ],
 "metadata": {
  "kernelspec": {
   "display_name": "Python 3 (ipykernel)",
   "language": "python",
   "name": "python3"
  },
  "language_info": {
   "codemirror_mode": {
    "name": "ipython",
    "version": 3
   },
   "file_extension": ".py",
   "mimetype": "text/x-python",
   "name": "python",
   "nbconvert_exporter": "python",
   "pygments_lexer": "ipython3",
   "version": "3.9.13"
  }
 },
 "nbformat": 4,
 "nbformat_minor": 5
}
